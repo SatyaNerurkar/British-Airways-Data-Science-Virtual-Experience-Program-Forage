{
  "cells": [
    {
      "cell_type": "markdown",
      "metadata": {
        "id": "DWRv19P-iElw"
      },
      "source": [
        "# Task 1\n",
        "\n",
        "---\n",
        "\n",
        "## Web scraping and analysis\n",
        "\n",
        "This Jupyter notebook includes some code to get you started with web scraping. We will use a package called `BeautifulSoup` to collect the data from the web. Once you've collected your data and saved it into a local `.csv` file you should start with your analysis.\n",
        "\n",
        "### Scraping data from Skytrax\n",
        "\n",
        "If you visit [https://www.airlinequality.com] you can see that there is a lot of data there. For this task, we are only interested in reviews related to British Airways and the Airline itself.\n",
        "\n",
        "If you navigate to this link: [https://www.airlinequality.com/airline-reviews/british-airways] you will see this data. Now, we can use `Python` and `BeautifulSoup` to collect all the links to the reviews and then to collect the text data on each of the individual review links."
      ]
    },
    {
      "cell_type": "code",
      "source": [
        "!pip install vaderSentiment"
      ],
      "metadata": {
        "colab": {
          "base_uri": "https://localhost:8080/"
        },
        "id": "5PhLQTpz6Ozr",
        "outputId": "d3c0aa53-a1e6-4b92-adbf-15e42f74b38d"
      },
      "execution_count": null,
      "outputs": [
        {
          "output_type": "stream",
          "name": "stdout",
          "text": [
            "Looking in indexes: https://pypi.org/simple, https://us-python.pkg.dev/colab-wheels/public/simple/\n",
            "Requirement already satisfied: vaderSentiment in /usr/local/lib/python3.8/dist-packages (3.3.2)\n",
            "Requirement already satisfied: requests in /usr/local/lib/python3.8/dist-packages (from vaderSentiment) (2.25.1)\n",
            "Requirement already satisfied: certifi>=2017.4.17 in /usr/local/lib/python3.8/dist-packages (from requests->vaderSentiment) (2022.12.7)\n",
            "Requirement already satisfied: urllib3<1.27,>=1.21.1 in /usr/local/lib/python3.8/dist-packages (from requests->vaderSentiment) (1.24.3)\n",
            "Requirement already satisfied: idna<3,>=2.5 in /usr/local/lib/python3.8/dist-packages (from requests->vaderSentiment) (2.10)\n",
            "Requirement already satisfied: chardet<5,>=3.0.2 in /usr/local/lib/python3.8/dist-packages (from requests->vaderSentiment) (4.0.0)\n"
          ]
        }
      ]
    },
    {
      "cell_type": "code",
      "execution_count": null,
      "metadata": {
        "id": "MkeVudxyiEmH"
      },
      "outputs": [],
      "source": [
        "import requests\n",
        "from bs4 import BeautifulSoup\n",
        "import pandas as pd"
      ]
    },
    {
      "cell_type": "code",
      "source": [
        "import plotly.graph_objects as go\n",
        "import matplotlib.pyplot as plt"
      ],
      "metadata": {
        "id": "83NWQrShAzND"
      },
      "execution_count": null,
      "outputs": []
    },
    {
      "cell_type": "code",
      "source": [
        "import re\n",
        "import nltk\n",
        "\n",
        "# punkt is used to divide a text into a list of sentences.\n",
        "nltk.download('punkt')\n",
        "from nltk.tokenize import word_tokenize\n",
        "from nltk import pos_tag\n",
        "\n",
        "# 'stopwords' is a list of commonly used words in the English language that are used to filter out irrelevant words.\n",
        "nltk.download('stopwords')\n",
        "from nltk.corpus import stopwords\n",
        "\n",
        "# 'wordnet' is a lexical database for the English language that is used to perform part-of-speech tagging.\n",
        "nltk.download('wordnet')\n",
        "from nltk.corpus import wordnet\n",
        "\n",
        "# perform lemmatization on a text input\n",
        "from nltk.stem import WordNetLemmatizer\n",
        "wordnet_lemmatizer = WordNetLemmatizer()\n",
        "\n",
        "# Additional resources used to perform part-of-speech tagging\n",
        "nltk.download('omw-1.4')\n",
        "nltk.download('averaged_perceptron_tagger')\n",
        "\n",
        "from vaderSentiment.vaderSentiment import SentimentIntensityAnalyzer\n",
        "analyzer = SentimentIntensityAnalyzer()"
      ],
      "metadata": {
        "colab": {
          "base_uri": "https://localhost:8080/"
        },
        "id": "aUPJRSXYta0S",
        "outputId": "b180bd6c-e84a-4edf-e699-c17da292bbb7"
      },
      "execution_count": null,
      "outputs": [
        {
          "output_type": "stream",
          "name": "stderr",
          "text": [
            "[nltk_data] Downloading package punkt to /root/nltk_data...\n",
            "[nltk_data]   Package punkt is already up-to-date!\n",
            "[nltk_data] Downloading package stopwords to /root/nltk_data...\n",
            "[nltk_data]   Package stopwords is already up-to-date!\n",
            "[nltk_data] Downloading package wordnet to /root/nltk_data...\n",
            "[nltk_data]   Package wordnet is already up-to-date!\n",
            "[nltk_data] Downloading package omw-1.4 to /root/nltk_data...\n",
            "[nltk_data]   Package omw-1.4 is already up-to-date!\n",
            "[nltk_data] Downloading package averaged_perceptron_tagger to\n",
            "[nltk_data]     /root/nltk_data...\n",
            "[nltk_data]   Package averaged_perceptron_tagger is already up-to-\n",
            "[nltk_data]       date!\n"
          ]
        }
      ]
    },
    {
      "cell_type": "code",
      "execution_count": null,
      "metadata": {
        "colab": {
          "base_uri": "https://localhost:8080/"
        },
        "id": "fFR06nk4iEmL",
        "outputId": "6bbf0e68-fc49-48ad-a480-b1ee97b69991"
      },
      "outputs": [
        {
          "output_type": "stream",
          "name": "stdout",
          "text": [
            "Scraping page 1\n",
            "   ---> 100 total reviews\n",
            "Scraping page 2\n",
            "   ---> 200 total reviews\n",
            "Scraping page 3\n",
            "   ---> 300 total reviews\n",
            "Scraping page 4\n",
            "   ---> 400 total reviews\n",
            "Scraping page 5\n",
            "   ---> 500 total reviews\n",
            "Scraping page 6\n",
            "   ---> 600 total reviews\n",
            "Scraping page 7\n",
            "   ---> 700 total reviews\n",
            "Scraping page 8\n",
            "   ---> 800 total reviews\n",
            "Scraping page 9\n",
            "   ---> 900 total reviews\n",
            "Scraping page 10\n",
            "   ---> 1000 total reviews\n",
            "Scraping page 11\n",
            "   ---> 1100 total reviews\n",
            "Scraping page 12\n",
            "   ---> 1200 total reviews\n",
            "Scraping page 13\n",
            "   ---> 1300 total reviews\n",
            "Scraping page 14\n",
            "   ---> 1400 total reviews\n",
            "Scraping page 15\n",
            "   ---> 1500 total reviews\n",
            "Scraping page 16\n",
            "   ---> 1600 total reviews\n",
            "Scraping page 17\n",
            "   ---> 1700 total reviews\n",
            "Scraping page 18\n",
            "   ---> 1800 total reviews\n",
            "Scraping page 19\n",
            "   ---> 1900 total reviews\n",
            "Scraping page 20\n",
            "   ---> 2000 total reviews\n",
            "Scraping page 21\n",
            "   ---> 2100 total reviews\n",
            "Scraping page 22\n",
            "   ---> 2200 total reviews\n",
            "Scraping page 23\n",
            "   ---> 2300 total reviews\n",
            "Scraping page 24\n",
            "   ---> 2400 total reviews\n",
            "Scraping page 25\n",
            "   ---> 2500 total reviews\n",
            "Scraping page 26\n",
            "   ---> 2600 total reviews\n",
            "Scraping page 27\n",
            "   ---> 2700 total reviews\n",
            "Scraping page 28\n",
            "   ---> 2800 total reviews\n",
            "Scraping page 29\n",
            "   ---> 2900 total reviews\n",
            "Scraping page 30\n",
            "   ---> 3000 total reviews\n",
            "Scraping page 31\n",
            "   ---> 3100 total reviews\n",
            "Scraping page 32\n",
            "   ---> 3200 total reviews\n",
            "Scraping page 33\n",
            "   ---> 3300 total reviews\n",
            "Scraping page 34\n",
            "   ---> 3400 total reviews\n",
            "Scraping page 35\n",
            "   ---> 3460 total reviews\n",
            "Scraping page 36\n",
            "   ---> 3460 total reviews\n",
            "Scraping page 37\n",
            "   ---> 3460 total reviews\n",
            "Scraping page 38\n",
            "   ---> 3460 total reviews\n",
            "Scraping page 39\n",
            "   ---> 3460 total reviews\n",
            "Scraping page 40\n",
            "   ---> 3460 total reviews\n",
            "Scraping page 41\n",
            "   ---> 3460 total reviews\n",
            "Scraping page 42\n",
            "   ---> 3460 total reviews\n",
            "Scraping page 43\n",
            "   ---> 3460 total reviews\n",
            "Scraping page 44\n",
            "   ---> 3460 total reviews\n",
            "Scraping page 45\n",
            "   ---> 3460 total reviews\n",
            "Scraping page 46\n",
            "   ---> 3460 total reviews\n",
            "Scraping page 47\n",
            "   ---> 3460 total reviews\n",
            "Scraping page 48\n",
            "   ---> 3460 total reviews\n",
            "Scraping page 49\n",
            "   ---> 3460 total reviews\n",
            "Scraping page 50\n",
            "   ---> 3460 total reviews\n",
            "Scraping page 51\n",
            "   ---> 3460 total reviews\n",
            "Scraping page 52\n",
            "   ---> 3460 total reviews\n",
            "Scraping page 53\n",
            "   ---> 3460 total reviews\n",
            "Scraping page 54\n",
            "   ---> 3460 total reviews\n",
            "Scraping page 55\n",
            "   ---> 3460 total reviews\n",
            "Scraping page 56\n",
            "   ---> 3460 total reviews\n",
            "Scraping page 57\n",
            "   ---> 3460 total reviews\n",
            "Scraping page 58\n",
            "   ---> 3460 total reviews\n",
            "Scraping page 59\n",
            "   ---> 3460 total reviews\n",
            "Scraping page 60\n",
            "   ---> 3460 total reviews\n",
            "Scraping page 61\n",
            "   ---> 3460 total reviews\n",
            "Scraping page 62\n",
            "   ---> 3460 total reviews\n",
            "Scraping page 63\n",
            "   ---> 3460 total reviews\n",
            "Scraping page 64\n",
            "   ---> 3460 total reviews\n",
            "Scraping page 65\n",
            "   ---> 3460 total reviews\n",
            "Scraping page 66\n",
            "   ---> 3460 total reviews\n",
            "Scraping page 67\n",
            "   ---> 3460 total reviews\n",
            "Scraping page 68\n",
            "   ---> 3460 total reviews\n",
            "Scraping page 69\n",
            "   ---> 3460 total reviews\n",
            "Scraping page 70\n",
            "   ---> 3460 total reviews\n",
            "Scraping page 71\n",
            "   ---> 3460 total reviews\n",
            "Scraping page 72\n",
            "   ---> 3460 total reviews\n",
            "Scraping page 73\n",
            "   ---> 3460 total reviews\n",
            "Scraping page 74\n",
            "   ---> 3460 total reviews\n",
            "Scraping page 75\n",
            "   ---> 3460 total reviews\n",
            "Scraping page 76\n",
            "   ---> 3460 total reviews\n",
            "Scraping page 77\n",
            "   ---> 3460 total reviews\n",
            "Scraping page 78\n",
            "   ---> 3460 total reviews\n",
            "Scraping page 79\n",
            "   ---> 3460 total reviews\n",
            "Scraping page 80\n",
            "   ---> 3460 total reviews\n",
            "Scraping page 81\n",
            "   ---> 3460 total reviews\n",
            "Scraping page 82\n",
            "   ---> 3460 total reviews\n",
            "Scraping page 83\n",
            "   ---> 3460 total reviews\n",
            "Scraping page 84\n",
            "   ---> 3460 total reviews\n",
            "Scraping page 85\n",
            "   ---> 3460 total reviews\n",
            "Scraping page 86\n",
            "   ---> 3460 total reviews\n",
            "Scraping page 87\n",
            "   ---> 3460 total reviews\n",
            "Scraping page 88\n",
            "   ---> 3460 total reviews\n",
            "Scraping page 89\n",
            "   ---> 3460 total reviews\n",
            "Scraping page 90\n",
            "   ---> 3460 total reviews\n",
            "Scraping page 91\n",
            "   ---> 3460 total reviews\n",
            "Scraping page 92\n",
            "   ---> 3460 total reviews\n",
            "Scraping page 93\n",
            "   ---> 3460 total reviews\n",
            "Scraping page 94\n",
            "   ---> 3460 total reviews\n",
            "Scraping page 95\n",
            "   ---> 3460 total reviews\n",
            "Scraping page 96\n",
            "   ---> 3460 total reviews\n",
            "Scraping page 97\n",
            "   ---> 3460 total reviews\n",
            "Scraping page 98\n",
            "   ---> 3460 total reviews\n",
            "Scraping page 99\n",
            "   ---> 3460 total reviews\n",
            "Scraping page 100\n",
            "   ---> 3460 total reviews\n"
          ]
        }
      ],
      "source": [
        "base_url = \"https://www.airlinequality.com/airline-reviews/british-airways\"\n",
        "pages = 35\n",
        "page_size = 100\n",
        "\n",
        "reviews = []\n",
        "\n",
        "# for i in range(1, pages + 1):\n",
        "for i in range(1, pages + 1):\n",
        "\n",
        "    print(f\"Scraping page {i}\")\n",
        "\n",
        "    # Create URL to collect links from paginated data\n",
        "    url = f\"{base_url}/page/{i}/?sortby=post_date%3ADesc&pagesize={page_size}\"\n",
        "\n",
        "    # Collect HTML data from this page\n",
        "    response = requests.get(url)\n",
        "\n",
        "    # Parse content\n",
        "    content = response.content\n",
        "    parsed_content = BeautifulSoup(content, 'html.parser')\n",
        "    for para in parsed_content.find_all(\"div\", {\"class\": \"text_content\"}):\n",
        "        reviews.append(para.get_text())\n",
        "    \n",
        "    print(f\"   ---> {len(reviews)} total reviews\")"
      ]
    },
    {
      "cell_type": "code",
      "execution_count": null,
      "metadata": {
        "colab": {
          "base_uri": "https://localhost:8080/",
          "height": 206
        },
        "id": "KDlgJMoXiEmP",
        "outputId": "3f5bf7ed-389c-43a0-f633-f6cd7dc41e01"
      },
      "outputs": [
        {
          "output_type": "execute_result",
          "data": {
            "text/plain": [
              "                                             reviews\n",
              "0  Not Verified | It seems that there is a race t...\n",
              "1  Not Verified |  As a Spanish born individual l...\n",
              "2  ✅ Trip Verified |  A rather empty and quiet fl...\n",
              "3  ✅ Trip Verified |  Easy check in and staff mem...\n",
              "4  ✅ Trip Verified |  Being a silver flyer and bo..."
            ],
            "text/html": [
              "\n",
              "  <div id=\"df-3f3b958d-6642-4a6e-8b90-e9b7afdc7a28\">\n",
              "    <div class=\"colab-df-container\">\n",
              "      <div>\n",
              "<style scoped>\n",
              "    .dataframe tbody tr th:only-of-type {\n",
              "        vertical-align: middle;\n",
              "    }\n",
              "\n",
              "    .dataframe tbody tr th {\n",
              "        vertical-align: top;\n",
              "    }\n",
              "\n",
              "    .dataframe thead th {\n",
              "        text-align: right;\n",
              "    }\n",
              "</style>\n",
              "<table border=\"1\" class=\"dataframe\">\n",
              "  <thead>\n",
              "    <tr style=\"text-align: right;\">\n",
              "      <th></th>\n",
              "      <th>reviews</th>\n",
              "    </tr>\n",
              "  </thead>\n",
              "  <tbody>\n",
              "    <tr>\n",
              "      <th>0</th>\n",
              "      <td>Not Verified | It seems that there is a race t...</td>\n",
              "    </tr>\n",
              "    <tr>\n",
              "      <th>1</th>\n",
              "      <td>Not Verified |  As a Spanish born individual l...</td>\n",
              "    </tr>\n",
              "    <tr>\n",
              "      <th>2</th>\n",
              "      <td>✅ Trip Verified |  A rather empty and quiet fl...</td>\n",
              "    </tr>\n",
              "    <tr>\n",
              "      <th>3</th>\n",
              "      <td>✅ Trip Verified |  Easy check in and staff mem...</td>\n",
              "    </tr>\n",
              "    <tr>\n",
              "      <th>4</th>\n",
              "      <td>✅ Trip Verified |  Being a silver flyer and bo...</td>\n",
              "    </tr>\n",
              "  </tbody>\n",
              "</table>\n",
              "</div>\n",
              "      <button class=\"colab-df-convert\" onclick=\"convertToInteractive('df-3f3b958d-6642-4a6e-8b90-e9b7afdc7a28')\"\n",
              "              title=\"Convert this dataframe to an interactive table.\"\n",
              "              style=\"display:none;\">\n",
              "        \n",
              "  <svg xmlns=\"http://www.w3.org/2000/svg\" height=\"24px\"viewBox=\"0 0 24 24\"\n",
              "       width=\"24px\">\n",
              "    <path d=\"M0 0h24v24H0V0z\" fill=\"none\"/>\n",
              "    <path d=\"M18.56 5.44l.94 2.06.94-2.06 2.06-.94-2.06-.94-.94-2.06-.94 2.06-2.06.94zm-11 1L8.5 8.5l.94-2.06 2.06-.94-2.06-.94L8.5 2.5l-.94 2.06-2.06.94zm10 10l.94 2.06.94-2.06 2.06-.94-2.06-.94-.94-2.06-.94 2.06-2.06.94z\"/><path d=\"M17.41 7.96l-1.37-1.37c-.4-.4-.92-.59-1.43-.59-.52 0-1.04.2-1.43.59L10.3 9.45l-7.72 7.72c-.78.78-.78 2.05 0 2.83L4 21.41c.39.39.9.59 1.41.59.51 0 1.02-.2 1.41-.59l7.78-7.78 2.81-2.81c.8-.78.8-2.07 0-2.86zM5.41 20L4 18.59l7.72-7.72 1.47 1.35L5.41 20z\"/>\n",
              "  </svg>\n",
              "      </button>\n",
              "      \n",
              "  <style>\n",
              "    .colab-df-container {\n",
              "      display:flex;\n",
              "      flex-wrap:wrap;\n",
              "      gap: 12px;\n",
              "    }\n",
              "\n",
              "    .colab-df-convert {\n",
              "      background-color: #E8F0FE;\n",
              "      border: none;\n",
              "      border-radius: 50%;\n",
              "      cursor: pointer;\n",
              "      display: none;\n",
              "      fill: #1967D2;\n",
              "      height: 32px;\n",
              "      padding: 0 0 0 0;\n",
              "      width: 32px;\n",
              "    }\n",
              "\n",
              "    .colab-df-convert:hover {\n",
              "      background-color: #E2EBFA;\n",
              "      box-shadow: 0px 1px 2px rgba(60, 64, 67, 0.3), 0px 1px 3px 1px rgba(60, 64, 67, 0.15);\n",
              "      fill: #174EA6;\n",
              "    }\n",
              "\n",
              "    [theme=dark] .colab-df-convert {\n",
              "      background-color: #3B4455;\n",
              "      fill: #D2E3FC;\n",
              "    }\n",
              "\n",
              "    [theme=dark] .colab-df-convert:hover {\n",
              "      background-color: #434B5C;\n",
              "      box-shadow: 0px 1px 3px 1px rgba(0, 0, 0, 0.15);\n",
              "      filter: drop-shadow(0px 1px 2px rgba(0, 0, 0, 0.3));\n",
              "      fill: #FFFFFF;\n",
              "    }\n",
              "  </style>\n",
              "\n",
              "      <script>\n",
              "        const buttonEl =\n",
              "          document.querySelector('#df-3f3b958d-6642-4a6e-8b90-e9b7afdc7a28 button.colab-df-convert');\n",
              "        buttonEl.style.display =\n",
              "          google.colab.kernel.accessAllowed ? 'block' : 'none';\n",
              "\n",
              "        async function convertToInteractive(key) {\n",
              "          const element = document.querySelector('#df-3f3b958d-6642-4a6e-8b90-e9b7afdc7a28');\n",
              "          const dataTable =\n",
              "            await google.colab.kernel.invokeFunction('convertToInteractive',\n",
              "                                                     [key], {});\n",
              "          if (!dataTable) return;\n",
              "\n",
              "          const docLinkHtml = 'Like what you see? Visit the ' +\n",
              "            '<a target=\"_blank\" href=https://colab.research.google.com/notebooks/data_table.ipynb>data table notebook</a>'\n",
              "            + ' to learn more about interactive tables.';\n",
              "          element.innerHTML = '';\n",
              "          dataTable['output_type'] = 'display_data';\n",
              "          await google.colab.output.renderOutput(dataTable, element);\n",
              "          const docLink = document.createElement('div');\n",
              "          docLink.innerHTML = docLinkHtml;\n",
              "          element.appendChild(docLink);\n",
              "        }\n",
              "      </script>\n",
              "    </div>\n",
              "  </div>\n",
              "  "
            ]
          },
          "metadata": {},
          "execution_count": 109
        }
      ],
      "source": [
        "df = pd.DataFrame()\n",
        "df[\"reviews\"] = reviews\n",
        "df.head()"
      ]
    },
    {
      "cell_type": "code",
      "execution_count": null,
      "metadata": {
        "id": "qSHGt1fJiEmQ"
      },
      "outputs": [],
      "source": [
        "df.to_csv(\"BA_reviews.csv\")"
      ]
    },
    {
      "cell_type": "markdown",
      "metadata": {
        "id": "RR8Cuo46iEmR"
      },
      "source": [
        "Congratulations! Now you have your dataset for this task! The loops above collected 1000 reviews by iterating through the paginated pages on the website. However, if you want to collect more data, try increasing the number of pages!\n",
        "\n",
        " The next thing that you should do is clean this data to remove any unnecessary text from each of the rows. For example, \"✅ Trip Verified\" can be removed from each row if it exists, as it's not relevant to what we want to investigate."
      ]
    },
    {
      "cell_type": "code",
      "execution_count": null,
      "metadata": {
        "id": "IsaN1wu7iEmT",
        "colab": {
          "base_uri": "https://localhost:8080/"
        },
        "outputId": "c1a8a191-0a49-47d0-8230-125c1b6980c9"
      },
      "outputs": [
        {
          "output_type": "stream",
          "name": "stdout",
          "text": [
            "We have successfully collected 3460 reviews from British Airways website.\n"
          ]
        }
      ],
      "source": [
        "print(f\"We have successfully collected {df.shape[0]} reviews from British Airways website.\")"
      ]
    },
    {
      "cell_type": "code",
      "source": [
        "df[\"reviews\"][0]"
      ],
      "metadata": {
        "colab": {
          "base_uri": "https://localhost:8080/",
          "height": 88
        },
        "id": "yq__SQqQmE0I",
        "outputId": "8db2514e-a218-42e4-fff7-5e0a53fcc529"
      },
      "execution_count": null,
      "outputs": [
        {
          "output_type": "execute_result",
          "data": {
            "text/plain": [
              "'Not Verified | It seems that there is a race to the bottom amongst airlines. I cannot even check in because BA requires the submission of documents for Covid restrictions. However the form to start the submission process is hopelessly broken. After clicking \"submit\" the form just hangs forever. No error message is given. I tried three different browsers on three different devices. All have the same hang. Which means you cannot check in online nor can you select a seat. I tried using the chat bot, but after 30 minutes of clicking \"try again\" I thought I had donated enough time to BA. '"
            ],
            "application/vnd.google.colaboratory.intrinsic+json": {
              "type": "string"
            }
          },
          "metadata": {},
          "execution_count": 112
        }
      ]
    },
    {
      "cell_type": "code",
      "source": [
        "df[\"reviews\"][2]"
      ],
      "metadata": {
        "colab": {
          "base_uri": "https://localhost:8080/",
          "height": 71
        },
        "id": "XXNsDUvNne-4",
        "outputId": "7a922886-f0b1-4acd-b036-1f5842797144"
      },
      "execution_count": null,
      "outputs": [
        {
          "output_type": "execute_result",
          "data": {
            "text/plain": [
              "\"✅ Trip Verified |  A rather empty and quiet flight to Tel Aviv, very friendly cabin crew and due to the emptiness of the flight I had an entire row to myself which allowed me to work easily and have as much space as required. Unfortunately upon landing the breaks overheated and we had to wait for the fire crew to cool them down which delayed us. Otherwise an overall excellent flight on BA's part. This was the first time I have flown this flight and it has actually taken off at the correct time.\""
            ],
            "application/vnd.google.colaboratory.intrinsic+json": {
              "type": "string"
            }
          },
          "metadata": {},
          "execution_count": 113
        }
      ]
    },
    {
      "cell_type": "markdown",
      "source": [
        "### Removing unnecessary text before | in the reviews. "
      ],
      "metadata": {
        "id": "5CxjPvkZnjJ5"
      }
    },
    {
      "cell_type": "code",
      "source": [
        "df[\"reviews\"] = df[\"reviews\"].str.split('|',expand=True)[1]"
      ],
      "metadata": {
        "id": "_WAjzbagndVU"
      },
      "execution_count": null,
      "outputs": []
    },
    {
      "cell_type": "code",
      "source": [
        "df.head(3)"
      ],
      "metadata": {
        "colab": {
          "base_uri": "https://localhost:8080/",
          "height": 143
        },
        "id": "KuYfNyCRnNo1",
        "outputId": "c54efb4c-7cc5-4799-df91-b2dc8d463ee0"
      },
      "execution_count": null,
      "outputs": [
        {
          "output_type": "execute_result",
          "data": {
            "text/plain": [
              "                                             reviews\n",
              "0   It seems that there is a race to the bottom a...\n",
              "1    As a Spanish born individual living in Engla...\n",
              "2    A rather empty and quiet flight to Tel Aviv,..."
            ],
            "text/html": [
              "\n",
              "  <div id=\"df-35aca7da-ae87-4f2b-a807-377cf39b7748\">\n",
              "    <div class=\"colab-df-container\">\n",
              "      <div>\n",
              "<style scoped>\n",
              "    .dataframe tbody tr th:only-of-type {\n",
              "        vertical-align: middle;\n",
              "    }\n",
              "\n",
              "    .dataframe tbody tr th {\n",
              "        vertical-align: top;\n",
              "    }\n",
              "\n",
              "    .dataframe thead th {\n",
              "        text-align: right;\n",
              "    }\n",
              "</style>\n",
              "<table border=\"1\" class=\"dataframe\">\n",
              "  <thead>\n",
              "    <tr style=\"text-align: right;\">\n",
              "      <th></th>\n",
              "      <th>reviews</th>\n",
              "    </tr>\n",
              "  </thead>\n",
              "  <tbody>\n",
              "    <tr>\n",
              "      <th>0</th>\n",
              "      <td>It seems that there is a race to the bottom a...</td>\n",
              "    </tr>\n",
              "    <tr>\n",
              "      <th>1</th>\n",
              "      <td>As a Spanish born individual living in Engla...</td>\n",
              "    </tr>\n",
              "    <tr>\n",
              "      <th>2</th>\n",
              "      <td>A rather empty and quiet flight to Tel Aviv,...</td>\n",
              "    </tr>\n",
              "  </tbody>\n",
              "</table>\n",
              "</div>\n",
              "      <button class=\"colab-df-convert\" onclick=\"convertToInteractive('df-35aca7da-ae87-4f2b-a807-377cf39b7748')\"\n",
              "              title=\"Convert this dataframe to an interactive table.\"\n",
              "              style=\"display:none;\">\n",
              "        \n",
              "  <svg xmlns=\"http://www.w3.org/2000/svg\" height=\"24px\"viewBox=\"0 0 24 24\"\n",
              "       width=\"24px\">\n",
              "    <path d=\"M0 0h24v24H0V0z\" fill=\"none\"/>\n",
              "    <path d=\"M18.56 5.44l.94 2.06.94-2.06 2.06-.94-2.06-.94-.94-2.06-.94 2.06-2.06.94zm-11 1L8.5 8.5l.94-2.06 2.06-.94-2.06-.94L8.5 2.5l-.94 2.06-2.06.94zm10 10l.94 2.06.94-2.06 2.06-.94-2.06-.94-.94-2.06-.94 2.06-2.06.94z\"/><path d=\"M17.41 7.96l-1.37-1.37c-.4-.4-.92-.59-1.43-.59-.52 0-1.04.2-1.43.59L10.3 9.45l-7.72 7.72c-.78.78-.78 2.05 0 2.83L4 21.41c.39.39.9.59 1.41.59.51 0 1.02-.2 1.41-.59l7.78-7.78 2.81-2.81c.8-.78.8-2.07 0-2.86zM5.41 20L4 18.59l7.72-7.72 1.47 1.35L5.41 20z\"/>\n",
              "  </svg>\n",
              "      </button>\n",
              "      \n",
              "  <style>\n",
              "    .colab-df-container {\n",
              "      display:flex;\n",
              "      flex-wrap:wrap;\n",
              "      gap: 12px;\n",
              "    }\n",
              "\n",
              "    .colab-df-convert {\n",
              "      background-color: #E8F0FE;\n",
              "      border: none;\n",
              "      border-radius: 50%;\n",
              "      cursor: pointer;\n",
              "      display: none;\n",
              "      fill: #1967D2;\n",
              "      height: 32px;\n",
              "      padding: 0 0 0 0;\n",
              "      width: 32px;\n",
              "    }\n",
              "\n",
              "    .colab-df-convert:hover {\n",
              "      background-color: #E2EBFA;\n",
              "      box-shadow: 0px 1px 2px rgba(60, 64, 67, 0.3), 0px 1px 3px 1px rgba(60, 64, 67, 0.15);\n",
              "      fill: #174EA6;\n",
              "    }\n",
              "\n",
              "    [theme=dark] .colab-df-convert {\n",
              "      background-color: #3B4455;\n",
              "      fill: #D2E3FC;\n",
              "    }\n",
              "\n",
              "    [theme=dark] .colab-df-convert:hover {\n",
              "      background-color: #434B5C;\n",
              "      box-shadow: 0px 1px 3px 1px rgba(0, 0, 0, 0.15);\n",
              "      filter: drop-shadow(0px 1px 2px rgba(0, 0, 0, 0.3));\n",
              "      fill: #FFFFFF;\n",
              "    }\n",
              "  </style>\n",
              "\n",
              "      <script>\n",
              "        const buttonEl =\n",
              "          document.querySelector('#df-35aca7da-ae87-4f2b-a807-377cf39b7748 button.colab-df-convert');\n",
              "        buttonEl.style.display =\n",
              "          google.colab.kernel.accessAllowed ? 'block' : 'none';\n",
              "\n",
              "        async function convertToInteractive(key) {\n",
              "          const element = document.querySelector('#df-35aca7da-ae87-4f2b-a807-377cf39b7748');\n",
              "          const dataTable =\n",
              "            await google.colab.kernel.invokeFunction('convertToInteractive',\n",
              "                                                     [key], {});\n",
              "          if (!dataTable) return;\n",
              "\n",
              "          const docLinkHtml = 'Like what you see? Visit the ' +\n",
              "            '<a target=\"_blank\" href=https://colab.research.google.com/notebooks/data_table.ipynb>data table notebook</a>'\n",
              "            + ' to learn more about interactive tables.';\n",
              "          element.innerHTML = '';\n",
              "          dataTable['output_type'] = 'display_data';\n",
              "          await google.colab.output.renderOutput(dataTable, element);\n",
              "          const docLink = document.createElement('div');\n",
              "          docLink.innerHTML = docLinkHtml;\n",
              "          element.appendChild(docLink);\n",
              "        }\n",
              "      </script>\n",
              "    </div>\n",
              "  </div>\n",
              "  "
            ]
          },
          "metadata": {},
          "execution_count": 115
        }
      ]
    },
    {
      "cell_type": "markdown",
      "source": [
        "### Clean reviews "
      ],
      "metadata": {
        "id": "mmJ1Z2udqvMF"
      }
    },
    {
      "cell_type": "code",
      "source": [
        "# Define a function to clean the text\n",
        "def clean(text):\n",
        "  \"\"\"\n",
        "  This function takes in an input of text and uses the re.sub() method to remove all special characters and numericals, leaving only the alphabets. \n",
        "  =================================================================================================================================================\n",
        "  parameters: text->raw string data\n",
        "  returns: text-> processed clean data\n",
        "  \"\"\"\n",
        "  text = re.sub('[^A-Za-z]+', ' ', str(text))\n",
        "  return text"
      ],
      "metadata": {
        "id": "qewiU1l7osQQ"
      },
      "execution_count": null,
      "outputs": []
    },
    {
      "cell_type": "code",
      "source": [
        "# Cleaning the text in the review column\n",
        "df['Cleaned_reviews'] = df['reviews'].map(clean)\n",
        "df.head()"
      ],
      "metadata": {
        "colab": {
          "base_uri": "https://localhost:8080/",
          "height": 206
        },
        "id": "itNe6G-0q4Ry",
        "outputId": "d39e5c14-0793-4419-8314-c1279b7b8bdf"
      },
      "execution_count": null,
      "outputs": [
        {
          "output_type": "execute_result",
          "data": {
            "text/plain": [
              "                                             reviews  \\\n",
              "0   It seems that there is a race to the bottom a...   \n",
              "1    As a Spanish born individual living in Engla...   \n",
              "2    A rather empty and quiet flight to Tel Aviv,...   \n",
              "3    Easy check in and staff member was polite an...   \n",
              "4    Being a silver flyer and booking a flight th...   \n",
              "\n",
              "                                     Cleaned_reviews  \n",
              "0   It seems that there is a race to the bottom a...  \n",
              "1   As a Spanish born individual living in Englan...  \n",
              "2   A rather empty and quiet flight to Tel Aviv v...  \n",
              "3   Easy check in and staff member was polite and...  \n",
              "4   Being a silver flyer and booking a flight thr...  "
            ],
            "text/html": [
              "\n",
              "  <div id=\"df-f91d712d-bdd7-4f5d-ad5c-ccd2111674fe\">\n",
              "    <div class=\"colab-df-container\">\n",
              "      <div>\n",
              "<style scoped>\n",
              "    .dataframe tbody tr th:only-of-type {\n",
              "        vertical-align: middle;\n",
              "    }\n",
              "\n",
              "    .dataframe tbody tr th {\n",
              "        vertical-align: top;\n",
              "    }\n",
              "\n",
              "    .dataframe thead th {\n",
              "        text-align: right;\n",
              "    }\n",
              "</style>\n",
              "<table border=\"1\" class=\"dataframe\">\n",
              "  <thead>\n",
              "    <tr style=\"text-align: right;\">\n",
              "      <th></th>\n",
              "      <th>reviews</th>\n",
              "      <th>Cleaned_reviews</th>\n",
              "    </tr>\n",
              "  </thead>\n",
              "  <tbody>\n",
              "    <tr>\n",
              "      <th>0</th>\n",
              "      <td>It seems that there is a race to the bottom a...</td>\n",
              "      <td>It seems that there is a race to the bottom a...</td>\n",
              "    </tr>\n",
              "    <tr>\n",
              "      <th>1</th>\n",
              "      <td>As a Spanish born individual living in Engla...</td>\n",
              "      <td>As a Spanish born individual living in Englan...</td>\n",
              "    </tr>\n",
              "    <tr>\n",
              "      <th>2</th>\n",
              "      <td>A rather empty and quiet flight to Tel Aviv,...</td>\n",
              "      <td>A rather empty and quiet flight to Tel Aviv v...</td>\n",
              "    </tr>\n",
              "    <tr>\n",
              "      <th>3</th>\n",
              "      <td>Easy check in and staff member was polite an...</td>\n",
              "      <td>Easy check in and staff member was polite and...</td>\n",
              "    </tr>\n",
              "    <tr>\n",
              "      <th>4</th>\n",
              "      <td>Being a silver flyer and booking a flight th...</td>\n",
              "      <td>Being a silver flyer and booking a flight thr...</td>\n",
              "    </tr>\n",
              "  </tbody>\n",
              "</table>\n",
              "</div>\n",
              "      <button class=\"colab-df-convert\" onclick=\"convertToInteractive('df-f91d712d-bdd7-4f5d-ad5c-ccd2111674fe')\"\n",
              "              title=\"Convert this dataframe to an interactive table.\"\n",
              "              style=\"display:none;\">\n",
              "        \n",
              "  <svg xmlns=\"http://www.w3.org/2000/svg\" height=\"24px\"viewBox=\"0 0 24 24\"\n",
              "       width=\"24px\">\n",
              "    <path d=\"M0 0h24v24H0V0z\" fill=\"none\"/>\n",
              "    <path d=\"M18.56 5.44l.94 2.06.94-2.06 2.06-.94-2.06-.94-.94-2.06-.94 2.06-2.06.94zm-11 1L8.5 8.5l.94-2.06 2.06-.94-2.06-.94L8.5 2.5l-.94 2.06-2.06.94zm10 10l.94 2.06.94-2.06 2.06-.94-2.06-.94-.94-2.06-.94 2.06-2.06.94z\"/><path d=\"M17.41 7.96l-1.37-1.37c-.4-.4-.92-.59-1.43-.59-.52 0-1.04.2-1.43.59L10.3 9.45l-7.72 7.72c-.78.78-.78 2.05 0 2.83L4 21.41c.39.39.9.59 1.41.59.51 0 1.02-.2 1.41-.59l7.78-7.78 2.81-2.81c.8-.78.8-2.07 0-2.86zM5.41 20L4 18.59l7.72-7.72 1.47 1.35L5.41 20z\"/>\n",
              "  </svg>\n",
              "      </button>\n",
              "      \n",
              "  <style>\n",
              "    .colab-df-container {\n",
              "      display:flex;\n",
              "      flex-wrap:wrap;\n",
              "      gap: 12px;\n",
              "    }\n",
              "\n",
              "    .colab-df-convert {\n",
              "      background-color: #E8F0FE;\n",
              "      border: none;\n",
              "      border-radius: 50%;\n",
              "      cursor: pointer;\n",
              "      display: none;\n",
              "      fill: #1967D2;\n",
              "      height: 32px;\n",
              "      padding: 0 0 0 0;\n",
              "      width: 32px;\n",
              "    }\n",
              "\n",
              "    .colab-df-convert:hover {\n",
              "      background-color: #E2EBFA;\n",
              "      box-shadow: 0px 1px 2px rgba(60, 64, 67, 0.3), 0px 1px 3px 1px rgba(60, 64, 67, 0.15);\n",
              "      fill: #174EA6;\n",
              "    }\n",
              "\n",
              "    [theme=dark] .colab-df-convert {\n",
              "      background-color: #3B4455;\n",
              "      fill: #D2E3FC;\n",
              "    }\n",
              "\n",
              "    [theme=dark] .colab-df-convert:hover {\n",
              "      background-color: #434B5C;\n",
              "      box-shadow: 0px 1px 3px 1px rgba(0, 0, 0, 0.15);\n",
              "      filter: drop-shadow(0px 1px 2px rgba(0, 0, 0, 0.3));\n",
              "      fill: #FFFFFF;\n",
              "    }\n",
              "  </style>\n",
              "\n",
              "      <script>\n",
              "        const buttonEl =\n",
              "          document.querySelector('#df-f91d712d-bdd7-4f5d-ad5c-ccd2111674fe button.colab-df-convert');\n",
              "        buttonEl.style.display =\n",
              "          google.colab.kernel.accessAllowed ? 'block' : 'none';\n",
              "\n",
              "        async function convertToInteractive(key) {\n",
              "          const element = document.querySelector('#df-f91d712d-bdd7-4f5d-ad5c-ccd2111674fe');\n",
              "          const dataTable =\n",
              "            await google.colab.kernel.invokeFunction('convertToInteractive',\n",
              "                                                     [key], {});\n",
              "          if (!dataTable) return;\n",
              "\n",
              "          const docLinkHtml = 'Like what you see? Visit the ' +\n",
              "            '<a target=\"_blank\" href=https://colab.research.google.com/notebooks/data_table.ipynb>data table notebook</a>'\n",
              "            + ' to learn more about interactive tables.';\n",
              "          element.innerHTML = '';\n",
              "          dataTable['output_type'] = 'display_data';\n",
              "          await google.colab.output.renderOutput(dataTable, element);\n",
              "          const docLink = document.createElement('div');\n",
              "          docLink.innerHTML = docLinkHtml;\n",
              "          element.appendChild(docLink);\n",
              "        }\n",
              "      </script>\n",
              "    </div>\n",
              "  </div>\n",
              "  "
            ]
          },
          "metadata": {},
          "execution_count": 117
        }
      ]
    },
    {
      "cell_type": "code",
      "source": [
        "# POS tagger dictionary\n",
        "pos_dict = {'J':wordnet.ADJ, 'V':wordnet.VERB, 'N':wordnet.NOUN, 'R':wordnet.ADV}\n",
        "\n",
        "\n",
        "def token_stop_pos(text):\n",
        "  \"\"\"\n",
        "  This function takes reviews as text and performs following:\n",
        "    - tokenize the text into a list of words.\n",
        "    - remove the stop words from the list of tokenized words.\n",
        "    - perform part-of-speech tagging on the list of tokenized words.\n",
        "  ==================================================================\n",
        "  parameters: text -> processed clean data\n",
        "  Returns: newlist -> List\n",
        "  \"\"\"\n",
        "  # tokenize the text into a list of words.\n",
        "  tags = pos_tag(word_tokenize(text))\n",
        "  processed_data = []\n",
        "  \n",
        "  # remove the stop words from the list of tokenized words and perform part-of-speech tagging on the list of tokenized words.\n",
        "  for word, tag in tags:\n",
        "    if word.lower() not in set(stopwords.words('english')):\n",
        "      processed_data.append(tuple([word, pos_dict.get(tag[0])]))\n",
        "  return processed_data "
      ],
      "metadata": {
        "id": "XyznHEQPsZ5h"
      },
      "execution_count": null,
      "outputs": []
    },
    {
      "cell_type": "code",
      "source": [
        "df['POS_tagged'] = df['Cleaned_reviews'].map(token_stop_pos)\n",
        "df.head()"
      ],
      "metadata": {
        "colab": {
          "base_uri": "https://localhost:8080/",
          "height": 206
        },
        "id": "z6XnP9Dkz0iI",
        "outputId": "0e3d5ea9-e4aa-45e3-c3cc-432c3279e3df"
      },
      "execution_count": null,
      "outputs": [
        {
          "output_type": "execute_result",
          "data": {
            "text/plain": [
              "                                             reviews  \\\n",
              "0   It seems that there is a race to the bottom a...   \n",
              "1    As a Spanish born individual living in Engla...   \n",
              "2    A rather empty and quiet flight to Tel Aviv,...   \n",
              "3    Easy check in and staff member was polite an...   \n",
              "4    Being a silver flyer and booking a flight th...   \n",
              "\n",
              "                                     Cleaned_reviews  \\\n",
              "0   It seems that there is a race to the bottom a...   \n",
              "1   As a Spanish born individual living in Englan...   \n",
              "2   A rather empty and quiet flight to Tel Aviv v...   \n",
              "3   Easy check in and staff member was polite and...   \n",
              "4   Being a silver flyer and booking a flight thr...   \n",
              "\n",
              "                                          POS_tagged  \n",
              "0  [(seems, v), (race, n), (bottom, a), (amongst,...  \n",
              "1  [(Spanish, a), (born, v), (individual, a), (li...  \n",
              "2  [(rather, r), (empty, a), (quiet, a), (flight,...  \n",
              "3  [(Easy, a), (check, n), (staff, n), (member, n...  \n",
              "4  [(silver, n), (flyer, n), (booking, v), (fligh...  "
            ],
            "text/html": [
              "\n",
              "  <div id=\"df-3d32c1c7-147f-44cf-b72c-ac24ea4f28ee\">\n",
              "    <div class=\"colab-df-container\">\n",
              "      <div>\n",
              "<style scoped>\n",
              "    .dataframe tbody tr th:only-of-type {\n",
              "        vertical-align: middle;\n",
              "    }\n",
              "\n",
              "    .dataframe tbody tr th {\n",
              "        vertical-align: top;\n",
              "    }\n",
              "\n",
              "    .dataframe thead th {\n",
              "        text-align: right;\n",
              "    }\n",
              "</style>\n",
              "<table border=\"1\" class=\"dataframe\">\n",
              "  <thead>\n",
              "    <tr style=\"text-align: right;\">\n",
              "      <th></th>\n",
              "      <th>reviews</th>\n",
              "      <th>Cleaned_reviews</th>\n",
              "      <th>POS_tagged</th>\n",
              "    </tr>\n",
              "  </thead>\n",
              "  <tbody>\n",
              "    <tr>\n",
              "      <th>0</th>\n",
              "      <td>It seems that there is a race to the bottom a...</td>\n",
              "      <td>It seems that there is a race to the bottom a...</td>\n",
              "      <td>[(seems, v), (race, n), (bottom, a), (amongst,...</td>\n",
              "    </tr>\n",
              "    <tr>\n",
              "      <th>1</th>\n",
              "      <td>As a Spanish born individual living in Engla...</td>\n",
              "      <td>As a Spanish born individual living in Englan...</td>\n",
              "      <td>[(Spanish, a), (born, v), (individual, a), (li...</td>\n",
              "    </tr>\n",
              "    <tr>\n",
              "      <th>2</th>\n",
              "      <td>A rather empty and quiet flight to Tel Aviv,...</td>\n",
              "      <td>A rather empty and quiet flight to Tel Aviv v...</td>\n",
              "      <td>[(rather, r), (empty, a), (quiet, a), (flight,...</td>\n",
              "    </tr>\n",
              "    <tr>\n",
              "      <th>3</th>\n",
              "      <td>Easy check in and staff member was polite an...</td>\n",
              "      <td>Easy check in and staff member was polite and...</td>\n",
              "      <td>[(Easy, a), (check, n), (staff, n), (member, n...</td>\n",
              "    </tr>\n",
              "    <tr>\n",
              "      <th>4</th>\n",
              "      <td>Being a silver flyer and booking a flight th...</td>\n",
              "      <td>Being a silver flyer and booking a flight thr...</td>\n",
              "      <td>[(silver, n), (flyer, n), (booking, v), (fligh...</td>\n",
              "    </tr>\n",
              "  </tbody>\n",
              "</table>\n",
              "</div>\n",
              "      <button class=\"colab-df-convert\" onclick=\"convertToInteractive('df-3d32c1c7-147f-44cf-b72c-ac24ea4f28ee')\"\n",
              "              title=\"Convert this dataframe to an interactive table.\"\n",
              "              style=\"display:none;\">\n",
              "        \n",
              "  <svg xmlns=\"http://www.w3.org/2000/svg\" height=\"24px\"viewBox=\"0 0 24 24\"\n",
              "       width=\"24px\">\n",
              "    <path d=\"M0 0h24v24H0V0z\" fill=\"none\"/>\n",
              "    <path d=\"M18.56 5.44l.94 2.06.94-2.06 2.06-.94-2.06-.94-.94-2.06-.94 2.06-2.06.94zm-11 1L8.5 8.5l.94-2.06 2.06-.94-2.06-.94L8.5 2.5l-.94 2.06-2.06.94zm10 10l.94 2.06.94-2.06 2.06-.94-2.06-.94-.94-2.06-.94 2.06-2.06.94z\"/><path d=\"M17.41 7.96l-1.37-1.37c-.4-.4-.92-.59-1.43-.59-.52 0-1.04.2-1.43.59L10.3 9.45l-7.72 7.72c-.78.78-.78 2.05 0 2.83L4 21.41c.39.39.9.59 1.41.59.51 0 1.02-.2 1.41-.59l7.78-7.78 2.81-2.81c.8-.78.8-2.07 0-2.86zM5.41 20L4 18.59l7.72-7.72 1.47 1.35L5.41 20z\"/>\n",
              "  </svg>\n",
              "      </button>\n",
              "      \n",
              "  <style>\n",
              "    .colab-df-container {\n",
              "      display:flex;\n",
              "      flex-wrap:wrap;\n",
              "      gap: 12px;\n",
              "    }\n",
              "\n",
              "    .colab-df-convert {\n",
              "      background-color: #E8F0FE;\n",
              "      border: none;\n",
              "      border-radius: 50%;\n",
              "      cursor: pointer;\n",
              "      display: none;\n",
              "      fill: #1967D2;\n",
              "      height: 32px;\n",
              "      padding: 0 0 0 0;\n",
              "      width: 32px;\n",
              "    }\n",
              "\n",
              "    .colab-df-convert:hover {\n",
              "      background-color: #E2EBFA;\n",
              "      box-shadow: 0px 1px 2px rgba(60, 64, 67, 0.3), 0px 1px 3px 1px rgba(60, 64, 67, 0.15);\n",
              "      fill: #174EA6;\n",
              "    }\n",
              "\n",
              "    [theme=dark] .colab-df-convert {\n",
              "      background-color: #3B4455;\n",
              "      fill: #D2E3FC;\n",
              "    }\n",
              "\n",
              "    [theme=dark] .colab-df-convert:hover {\n",
              "      background-color: #434B5C;\n",
              "      box-shadow: 0px 1px 3px 1px rgba(0, 0, 0, 0.15);\n",
              "      filter: drop-shadow(0px 1px 2px rgba(0, 0, 0, 0.3));\n",
              "      fill: #FFFFFF;\n",
              "    }\n",
              "  </style>\n",
              "\n",
              "      <script>\n",
              "        const buttonEl =\n",
              "          document.querySelector('#df-3d32c1c7-147f-44cf-b72c-ac24ea4f28ee button.colab-df-convert');\n",
              "        buttonEl.style.display =\n",
              "          google.colab.kernel.accessAllowed ? 'block' : 'none';\n",
              "\n",
              "        async function convertToInteractive(key) {\n",
              "          const element = document.querySelector('#df-3d32c1c7-147f-44cf-b72c-ac24ea4f28ee');\n",
              "          const dataTable =\n",
              "            await google.colab.kernel.invokeFunction('convertToInteractive',\n",
              "                                                     [key], {});\n",
              "          if (!dataTable) return;\n",
              "\n",
              "          const docLinkHtml = 'Like what you see? Visit the ' +\n",
              "            '<a target=\"_blank\" href=https://colab.research.google.com/notebooks/data_table.ipynb>data table notebook</a>'\n",
              "            + ' to learn more about interactive tables.';\n",
              "          element.innerHTML = '';\n",
              "          dataTable['output_type'] = 'display_data';\n",
              "          await google.colab.output.renderOutput(dataTable, element);\n",
              "          const docLink = document.createElement('div');\n",
              "          docLink.innerHTML = docLinkHtml;\n",
              "          element.appendChild(docLink);\n",
              "        }\n",
              "      </script>\n",
              "    </div>\n",
              "  </div>\n",
              "  "
            ]
          },
          "metadata": {},
          "execution_count": 119
        }
      ]
    },
    {
      "cell_type": "code",
      "source": [
        "# Obtaining the stem words – Lemmatization\n",
        "def lemmatize(pos_data):\n",
        "  \"\"\"\n",
        "  This function takes pos_dataas  list of tuples containing words and their corresponding part-of-speech tags and performs lemmatization.\n",
        "  =======================================================================================================================================\n",
        "  parameters: pos_data - > List\n",
        "  returns lemma_review -> string\n",
        "  \"\"\"\n",
        "  # initialize empty string.\n",
        "  lemma_review = \" \"\n",
        "  # iterate over the list of tuples and for each word and pos pair\n",
        "  for word, pos in pos_data:\n",
        "    # if pos variable is empty assign the word to a variable \"lemma\" and adds it to the \"lemma_review\" string.\n",
        "    # if pos variable is not empty obtain the lemma of the word.\n",
        "    if not pos:\n",
        "      lemma = word\n",
        "      lemma_review = lemma_review + \" \" + lemma\n",
        "    else:\n",
        "      lemma = wordnet_lemmatizer.lemmatize(word, pos=pos)\n",
        "      lemma_review = lemma_review + \" \" + lemma\n",
        "  return lemma_review"
      ],
      "metadata": {
        "id": "pnj3Ob5z2cfR"
      },
      "execution_count": null,
      "outputs": []
    },
    {
      "cell_type": "code",
      "source": [
        "df['Lemma'] = df['POS_tagged'].map(lemmatize)\n",
        "df.head()"
      ],
      "metadata": {
        "colab": {
          "base_uri": "https://localhost:8080/",
          "height": 206
        },
        "id": "Y76LFv492ccW",
        "outputId": "13cd1ca1-e43d-4873-f06b-84ffd5e4ca53"
      },
      "execution_count": null,
      "outputs": [
        {
          "output_type": "execute_result",
          "data": {
            "text/plain": [
              "                                             reviews  \\\n",
              "0   It seems that there is a race to the bottom a...   \n",
              "1    As a Spanish born individual living in Engla...   \n",
              "2    A rather empty and quiet flight to Tel Aviv,...   \n",
              "3    Easy check in and staff member was polite an...   \n",
              "4    Being a silver flyer and booking a flight th...   \n",
              "\n",
              "                                     Cleaned_reviews  \\\n",
              "0   It seems that there is a race to the bottom a...   \n",
              "1   As a Spanish born individual living in Englan...   \n",
              "2   A rather empty and quiet flight to Tel Aviv v...   \n",
              "3   Easy check in and staff member was polite and...   \n",
              "4   Being a silver flyer and booking a flight thr...   \n",
              "\n",
              "                                          POS_tagged  \\\n",
              "0  [(seems, v), (race, n), (bottom, a), (amongst,...   \n",
              "1  [(Spanish, a), (born, v), (individual, a), (li...   \n",
              "2  [(rather, r), (empty, a), (quiet, a), (flight,...   \n",
              "3  [(Easy, a), (check, n), (staff, n), (member, n...   \n",
              "4  [(silver, n), (flyer, n), (booking, v), (fligh...   \n",
              "\n",
              "                                               Lemma  \n",
              "0    seem race bottom amongst airline even check ...  \n",
              "1    Spanish bear individual living England use B...  \n",
              "2    rather empty quiet flight Tel Aviv friendly ...  \n",
              "3    Easy check staff member polite helpful make ...  \n",
              "4    silver flyer book flight BA Dublin would thi...  "
            ],
            "text/html": [
              "\n",
              "  <div id=\"df-874c412c-6661-49f2-938d-d7173dfed174\">\n",
              "    <div class=\"colab-df-container\">\n",
              "      <div>\n",
              "<style scoped>\n",
              "    .dataframe tbody tr th:only-of-type {\n",
              "        vertical-align: middle;\n",
              "    }\n",
              "\n",
              "    .dataframe tbody tr th {\n",
              "        vertical-align: top;\n",
              "    }\n",
              "\n",
              "    .dataframe thead th {\n",
              "        text-align: right;\n",
              "    }\n",
              "</style>\n",
              "<table border=\"1\" class=\"dataframe\">\n",
              "  <thead>\n",
              "    <tr style=\"text-align: right;\">\n",
              "      <th></th>\n",
              "      <th>reviews</th>\n",
              "      <th>Cleaned_reviews</th>\n",
              "      <th>POS_tagged</th>\n",
              "      <th>Lemma</th>\n",
              "    </tr>\n",
              "  </thead>\n",
              "  <tbody>\n",
              "    <tr>\n",
              "      <th>0</th>\n",
              "      <td>It seems that there is a race to the bottom a...</td>\n",
              "      <td>It seems that there is a race to the bottom a...</td>\n",
              "      <td>[(seems, v), (race, n), (bottom, a), (amongst,...</td>\n",
              "      <td>seem race bottom amongst airline even check ...</td>\n",
              "    </tr>\n",
              "    <tr>\n",
              "      <th>1</th>\n",
              "      <td>As a Spanish born individual living in Engla...</td>\n",
              "      <td>As a Spanish born individual living in Englan...</td>\n",
              "      <td>[(Spanish, a), (born, v), (individual, a), (li...</td>\n",
              "      <td>Spanish bear individual living England use B...</td>\n",
              "    </tr>\n",
              "    <tr>\n",
              "      <th>2</th>\n",
              "      <td>A rather empty and quiet flight to Tel Aviv,...</td>\n",
              "      <td>A rather empty and quiet flight to Tel Aviv v...</td>\n",
              "      <td>[(rather, r), (empty, a), (quiet, a), (flight,...</td>\n",
              "      <td>rather empty quiet flight Tel Aviv friendly ...</td>\n",
              "    </tr>\n",
              "    <tr>\n",
              "      <th>3</th>\n",
              "      <td>Easy check in and staff member was polite an...</td>\n",
              "      <td>Easy check in and staff member was polite and...</td>\n",
              "      <td>[(Easy, a), (check, n), (staff, n), (member, n...</td>\n",
              "      <td>Easy check staff member polite helpful make ...</td>\n",
              "    </tr>\n",
              "    <tr>\n",
              "      <th>4</th>\n",
              "      <td>Being a silver flyer and booking a flight th...</td>\n",
              "      <td>Being a silver flyer and booking a flight thr...</td>\n",
              "      <td>[(silver, n), (flyer, n), (booking, v), (fligh...</td>\n",
              "      <td>silver flyer book flight BA Dublin would thi...</td>\n",
              "    </tr>\n",
              "  </tbody>\n",
              "</table>\n",
              "</div>\n",
              "      <button class=\"colab-df-convert\" onclick=\"convertToInteractive('df-874c412c-6661-49f2-938d-d7173dfed174')\"\n",
              "              title=\"Convert this dataframe to an interactive table.\"\n",
              "              style=\"display:none;\">\n",
              "        \n",
              "  <svg xmlns=\"http://www.w3.org/2000/svg\" height=\"24px\"viewBox=\"0 0 24 24\"\n",
              "       width=\"24px\">\n",
              "    <path d=\"M0 0h24v24H0V0z\" fill=\"none\"/>\n",
              "    <path d=\"M18.56 5.44l.94 2.06.94-2.06 2.06-.94-2.06-.94-.94-2.06-.94 2.06-2.06.94zm-11 1L8.5 8.5l.94-2.06 2.06-.94-2.06-.94L8.5 2.5l-.94 2.06-2.06.94zm10 10l.94 2.06.94-2.06 2.06-.94-2.06-.94-.94-2.06-.94 2.06-2.06.94z\"/><path d=\"M17.41 7.96l-1.37-1.37c-.4-.4-.92-.59-1.43-.59-.52 0-1.04.2-1.43.59L10.3 9.45l-7.72 7.72c-.78.78-.78 2.05 0 2.83L4 21.41c.39.39.9.59 1.41.59.51 0 1.02-.2 1.41-.59l7.78-7.78 2.81-2.81c.8-.78.8-2.07 0-2.86zM5.41 20L4 18.59l7.72-7.72 1.47 1.35L5.41 20z\"/>\n",
              "  </svg>\n",
              "      </button>\n",
              "      \n",
              "  <style>\n",
              "    .colab-df-container {\n",
              "      display:flex;\n",
              "      flex-wrap:wrap;\n",
              "      gap: 12px;\n",
              "    }\n",
              "\n",
              "    .colab-df-convert {\n",
              "      background-color: #E8F0FE;\n",
              "      border: none;\n",
              "      border-radius: 50%;\n",
              "      cursor: pointer;\n",
              "      display: none;\n",
              "      fill: #1967D2;\n",
              "      height: 32px;\n",
              "      padding: 0 0 0 0;\n",
              "      width: 32px;\n",
              "    }\n",
              "\n",
              "    .colab-df-convert:hover {\n",
              "      background-color: #E2EBFA;\n",
              "      box-shadow: 0px 1px 2px rgba(60, 64, 67, 0.3), 0px 1px 3px 1px rgba(60, 64, 67, 0.15);\n",
              "      fill: #174EA6;\n",
              "    }\n",
              "\n",
              "    [theme=dark] .colab-df-convert {\n",
              "      background-color: #3B4455;\n",
              "      fill: #D2E3FC;\n",
              "    }\n",
              "\n",
              "    [theme=dark] .colab-df-convert:hover {\n",
              "      background-color: #434B5C;\n",
              "      box-shadow: 0px 1px 3px 1px rgba(0, 0, 0, 0.15);\n",
              "      filter: drop-shadow(0px 1px 2px rgba(0, 0, 0, 0.3));\n",
              "      fill: #FFFFFF;\n",
              "    }\n",
              "  </style>\n",
              "\n",
              "      <script>\n",
              "        const buttonEl =\n",
              "          document.querySelector('#df-874c412c-6661-49f2-938d-d7173dfed174 button.colab-df-convert');\n",
              "        buttonEl.style.display =\n",
              "          google.colab.kernel.accessAllowed ? 'block' : 'none';\n",
              "\n",
              "        async function convertToInteractive(key) {\n",
              "          const element = document.querySelector('#df-874c412c-6661-49f2-938d-d7173dfed174');\n",
              "          const dataTable =\n",
              "            await google.colab.kernel.invokeFunction('convertToInteractive',\n",
              "                                                     [key], {});\n",
              "          if (!dataTable) return;\n",
              "\n",
              "          const docLinkHtml = 'Like what you see? Visit the ' +\n",
              "            '<a target=\"_blank\" href=https://colab.research.google.com/notebooks/data_table.ipynb>data table notebook</a>'\n",
              "            + ' to learn more about interactive tables.';\n",
              "          element.innerHTML = '';\n",
              "          dataTable['output_type'] = 'display_data';\n",
              "          await google.colab.output.renderOutput(dataTable, element);\n",
              "          const docLink = document.createElement('div');\n",
              "          docLink.innerHTML = docLinkHtml;\n",
              "          element.appendChild(docLink);\n",
              "        }\n",
              "      </script>\n",
              "    </div>\n",
              "  </div>\n",
              "  "
            ]
          },
          "metadata": {},
          "execution_count": 121
        }
      ]
    },
    {
      "cell_type": "markdown",
      "source": [
        "### Sentiment Analysis using VADER\n",
        "> VADER stands for Valence Aware Dictionary and Sentiment Reasoner.\n",
        "> Vader sentiment not only tells if the statement is positive or negative along with the intensity of emotion."
      ],
      "metadata": {
        "id": "dTvT80Cb6Twl"
      }
    },
    {
      "cell_type": "code",
      "source": [
        "# function to calculate vader sentiment\n",
        "def vadersentimentanalysis(review):\n",
        "  #  calculate the sentiment of the text\n",
        "  vs = analyzer.polarity_scores(review)\n",
        "  return vs['compound']"
      ],
      "metadata": {
        "id": "Z334xH7s7JKW"
      },
      "execution_count": null,
      "outputs": []
    },
    {
      "cell_type": "code",
      "source": [
        "df['Sentiment'] = df['Lemma'].map(vadersentimentanalysis)"
      ],
      "metadata": {
        "id": "10UZiNtA7L_1"
      },
      "execution_count": null,
      "outputs": []
    },
    {
      "cell_type": "code",
      "source": [
        "# function to analyse\n",
        "def vader_analysis(compound):\n",
        "    if compound >= 0.5:\n",
        "        return 'Positive'\n",
        "    elif compound < 0 :\n",
        "        return 'Negative'\n",
        "    else:\n",
        "        return 'Neutral'"
      ],
      "metadata": {
        "id": "FTWeB7pT2cZT"
      },
      "execution_count": null,
      "outputs": []
    },
    {
      "cell_type": "code",
      "source": [
        "df['Analysis'] = df['Sentiment'].map(vader_analysis)\n",
        "df.head()"
      ],
      "metadata": {
        "colab": {
          "base_uri": "https://localhost:8080/",
          "height": 206
        },
        "id": "62MsrHcP2cVt",
        "outputId": "b36e0f27-be6f-4b28-9143-3fd80e48bc21"
      },
      "execution_count": null,
      "outputs": [
        {
          "output_type": "execute_result",
          "data": {
            "text/plain": [
              "                                             reviews  \\\n",
              "0   It seems that there is a race to the bottom a...   \n",
              "1    As a Spanish born individual living in Engla...   \n",
              "2    A rather empty and quiet flight to Tel Aviv,...   \n",
              "3    Easy check in and staff member was polite an...   \n",
              "4    Being a silver flyer and booking a flight th...   \n",
              "\n",
              "                                     Cleaned_reviews  \\\n",
              "0   It seems that there is a race to the bottom a...   \n",
              "1   As a Spanish born individual living in Englan...   \n",
              "2   A rather empty and quiet flight to Tel Aviv v...   \n",
              "3   Easy check in and staff member was polite and...   \n",
              "4   Being a silver flyer and booking a flight thr...   \n",
              "\n",
              "                                          POS_tagged  \\\n",
              "0  [(seems, v), (race, n), (bottom, a), (amongst,...   \n",
              "1  [(Spanish, a), (born, v), (individual, a), (li...   \n",
              "2  [(rather, r), (empty, a), (quiet, a), (flight,...   \n",
              "3  [(Easy, a), (check, n), (staff, n), (member, n...   \n",
              "4  [(silver, n), (flyer, n), (booking, v), (fligh...   \n",
              "\n",
              "                                               Lemma  Sentiment  Analysis  \n",
              "0    seem race bottom amongst airline even check ...    -0.7906  Negative  \n",
              "1    Spanish bear individual living England use B...     0.8580  Positive  \n",
              "2    rather empty quiet flight Tel Aviv friendly ...     0.4019   Neutral  \n",
              "3    Easy check staff member polite helpful make ...     0.9723  Positive  \n",
              "4    silver flyer book flight BA Dublin would thi...     0.7783  Positive  "
            ],
            "text/html": [
              "\n",
              "  <div id=\"df-41e555b0-996f-46c2-abaf-12be2f58a223\">\n",
              "    <div class=\"colab-df-container\">\n",
              "      <div>\n",
              "<style scoped>\n",
              "    .dataframe tbody tr th:only-of-type {\n",
              "        vertical-align: middle;\n",
              "    }\n",
              "\n",
              "    .dataframe tbody tr th {\n",
              "        vertical-align: top;\n",
              "    }\n",
              "\n",
              "    .dataframe thead th {\n",
              "        text-align: right;\n",
              "    }\n",
              "</style>\n",
              "<table border=\"1\" class=\"dataframe\">\n",
              "  <thead>\n",
              "    <tr style=\"text-align: right;\">\n",
              "      <th></th>\n",
              "      <th>reviews</th>\n",
              "      <th>Cleaned_reviews</th>\n",
              "      <th>POS_tagged</th>\n",
              "      <th>Lemma</th>\n",
              "      <th>Sentiment</th>\n",
              "      <th>Analysis</th>\n",
              "    </tr>\n",
              "  </thead>\n",
              "  <tbody>\n",
              "    <tr>\n",
              "      <th>0</th>\n",
              "      <td>It seems that there is a race to the bottom a...</td>\n",
              "      <td>It seems that there is a race to the bottom a...</td>\n",
              "      <td>[(seems, v), (race, n), (bottom, a), (amongst,...</td>\n",
              "      <td>seem race bottom amongst airline even check ...</td>\n",
              "      <td>-0.7906</td>\n",
              "      <td>Negative</td>\n",
              "    </tr>\n",
              "    <tr>\n",
              "      <th>1</th>\n",
              "      <td>As a Spanish born individual living in Engla...</td>\n",
              "      <td>As a Spanish born individual living in Englan...</td>\n",
              "      <td>[(Spanish, a), (born, v), (individual, a), (li...</td>\n",
              "      <td>Spanish bear individual living England use B...</td>\n",
              "      <td>0.8580</td>\n",
              "      <td>Positive</td>\n",
              "    </tr>\n",
              "    <tr>\n",
              "      <th>2</th>\n",
              "      <td>A rather empty and quiet flight to Tel Aviv,...</td>\n",
              "      <td>A rather empty and quiet flight to Tel Aviv v...</td>\n",
              "      <td>[(rather, r), (empty, a), (quiet, a), (flight,...</td>\n",
              "      <td>rather empty quiet flight Tel Aviv friendly ...</td>\n",
              "      <td>0.4019</td>\n",
              "      <td>Neutral</td>\n",
              "    </tr>\n",
              "    <tr>\n",
              "      <th>3</th>\n",
              "      <td>Easy check in and staff member was polite an...</td>\n",
              "      <td>Easy check in and staff member was polite and...</td>\n",
              "      <td>[(Easy, a), (check, n), (staff, n), (member, n...</td>\n",
              "      <td>Easy check staff member polite helpful make ...</td>\n",
              "      <td>0.9723</td>\n",
              "      <td>Positive</td>\n",
              "    </tr>\n",
              "    <tr>\n",
              "      <th>4</th>\n",
              "      <td>Being a silver flyer and booking a flight th...</td>\n",
              "      <td>Being a silver flyer and booking a flight thr...</td>\n",
              "      <td>[(silver, n), (flyer, n), (booking, v), (fligh...</td>\n",
              "      <td>silver flyer book flight BA Dublin would thi...</td>\n",
              "      <td>0.7783</td>\n",
              "      <td>Positive</td>\n",
              "    </tr>\n",
              "  </tbody>\n",
              "</table>\n",
              "</div>\n",
              "      <button class=\"colab-df-convert\" onclick=\"convertToInteractive('df-41e555b0-996f-46c2-abaf-12be2f58a223')\"\n",
              "              title=\"Convert this dataframe to an interactive table.\"\n",
              "              style=\"display:none;\">\n",
              "        \n",
              "  <svg xmlns=\"http://www.w3.org/2000/svg\" height=\"24px\"viewBox=\"0 0 24 24\"\n",
              "       width=\"24px\">\n",
              "    <path d=\"M0 0h24v24H0V0z\" fill=\"none\"/>\n",
              "    <path d=\"M18.56 5.44l.94 2.06.94-2.06 2.06-.94-2.06-.94-.94-2.06-.94 2.06-2.06.94zm-11 1L8.5 8.5l.94-2.06 2.06-.94-2.06-.94L8.5 2.5l-.94 2.06-2.06.94zm10 10l.94 2.06.94-2.06 2.06-.94-2.06-.94-.94-2.06-.94 2.06-2.06.94z\"/><path d=\"M17.41 7.96l-1.37-1.37c-.4-.4-.92-.59-1.43-.59-.52 0-1.04.2-1.43.59L10.3 9.45l-7.72 7.72c-.78.78-.78 2.05 0 2.83L4 21.41c.39.39.9.59 1.41.59.51 0 1.02-.2 1.41-.59l7.78-7.78 2.81-2.81c.8-.78.8-2.07 0-2.86zM5.41 20L4 18.59l7.72-7.72 1.47 1.35L5.41 20z\"/>\n",
              "  </svg>\n",
              "      </button>\n",
              "      \n",
              "  <style>\n",
              "    .colab-df-container {\n",
              "      display:flex;\n",
              "      flex-wrap:wrap;\n",
              "      gap: 12px;\n",
              "    }\n",
              "\n",
              "    .colab-df-convert {\n",
              "      background-color: #E8F0FE;\n",
              "      border: none;\n",
              "      border-radius: 50%;\n",
              "      cursor: pointer;\n",
              "      display: none;\n",
              "      fill: #1967D2;\n",
              "      height: 32px;\n",
              "      padding: 0 0 0 0;\n",
              "      width: 32px;\n",
              "    }\n",
              "\n",
              "    .colab-df-convert:hover {\n",
              "      background-color: #E2EBFA;\n",
              "      box-shadow: 0px 1px 2px rgba(60, 64, 67, 0.3), 0px 1px 3px 1px rgba(60, 64, 67, 0.15);\n",
              "      fill: #174EA6;\n",
              "    }\n",
              "\n",
              "    [theme=dark] .colab-df-convert {\n",
              "      background-color: #3B4455;\n",
              "      fill: #D2E3FC;\n",
              "    }\n",
              "\n",
              "    [theme=dark] .colab-df-convert:hover {\n",
              "      background-color: #434B5C;\n",
              "      box-shadow: 0px 1px 3px 1px rgba(0, 0, 0, 0.15);\n",
              "      filter: drop-shadow(0px 1px 2px rgba(0, 0, 0, 0.3));\n",
              "      fill: #FFFFFF;\n",
              "    }\n",
              "  </style>\n",
              "\n",
              "      <script>\n",
              "        const buttonEl =\n",
              "          document.querySelector('#df-41e555b0-996f-46c2-abaf-12be2f58a223 button.colab-df-convert');\n",
              "        buttonEl.style.display =\n",
              "          google.colab.kernel.accessAllowed ? 'block' : 'none';\n",
              "\n",
              "        async function convertToInteractive(key) {\n",
              "          const element = document.querySelector('#df-41e555b0-996f-46c2-abaf-12be2f58a223');\n",
              "          const dataTable =\n",
              "            await google.colab.kernel.invokeFunction('convertToInteractive',\n",
              "                                                     [key], {});\n",
              "          if (!dataTable) return;\n",
              "\n",
              "          const docLinkHtml = 'Like what you see? Visit the ' +\n",
              "            '<a target=\"_blank\" href=https://colab.research.google.com/notebooks/data_table.ipynb>data table notebook</a>'\n",
              "            + ' to learn more about interactive tables.';\n",
              "          element.innerHTML = '';\n",
              "          dataTable['output_type'] = 'display_data';\n",
              "          await google.colab.output.renderOutput(dataTable, element);\n",
              "          const docLink = document.createElement('div');\n",
              "          docLink.innerHTML = docLinkHtml;\n",
              "          element.appendChild(docLink);\n",
              "        }\n",
              "      </script>\n",
              "    </div>\n",
              "  </div>\n",
              "  "
            ]
          },
          "metadata": {},
          "execution_count": 125
        }
      ]
    },
    {
      "cell_type": "code",
      "source": [
        "vader_counts = df['Analysis'].value_counts()\n",
        "vader_counts"
      ],
      "metadata": {
        "colab": {
          "base_uri": "https://localhost:8080/"
        },
        "id": "mTI84mtd2cDX",
        "outputId": "7c552111-9693-4f81-c9a2-4a9081d8eae0"
      },
      "execution_count": null,
      "outputs": [
        {
          "output_type": "execute_result",
          "data": {
            "text/plain": [
              "Neutral     1743\n",
              "Positive    1036\n",
              "Negative     681\n",
              "Name: Analysis, dtype: int64"
            ]
          },
          "metadata": {},
          "execution_count": 126
        }
      ]
    },
    {
      "cell_type": "code",
      "source": [
        "list(df['Analysis'].value_counts().values)"
      ],
      "metadata": {
        "colab": {
          "base_uri": "https://localhost:8080/"
        },
        "id": "BUyQJ1xs9z1M",
        "outputId": "85322a15-353e-4960-8ca1-a71bd6f9a7cb"
      },
      "execution_count": null,
      "outputs": [
        {
          "output_type": "execute_result",
          "data": {
            "text/plain": [
              "[1743, 1036, 681]"
            ]
          },
          "metadata": {},
          "execution_count": 127
        }
      ]
    },
    {
      "cell_type": "code",
      "source": [
        "!pip install plotly-express"
      ],
      "metadata": {
        "colab": {
          "base_uri": "https://localhost:8080/"
        },
        "id": "dKYbdWfc9j4I",
        "outputId": "043d947a-ecd8-4f54-cc8f-520fac55b8eb"
      },
      "execution_count": null,
      "outputs": [
        {
          "output_type": "stream",
          "name": "stdout",
          "text": [
            "Looking in indexes: https://pypi.org/simple, https://us-python.pkg.dev/colab-wheels/public/simple/\n",
            "Requirement already satisfied: plotly-express in /usr/local/lib/python3.8/dist-packages (0.4.1)\n",
            "Requirement already satisfied: numpy>=1.11 in /usr/local/lib/python3.8/dist-packages (from plotly-express) (1.21.6)\n",
            "Requirement already satisfied: statsmodels>=0.9.0 in /usr/local/lib/python3.8/dist-packages (from plotly-express) (0.12.2)\n",
            "Requirement already satisfied: scipy>=0.18 in /usr/local/lib/python3.8/dist-packages (from plotly-express) (1.7.3)\n",
            "Requirement already satisfied: patsy>=0.5 in /usr/local/lib/python3.8/dist-packages (from plotly-express) (0.5.3)\n",
            "Requirement already satisfied: plotly>=4.1.0 in /usr/local/lib/python3.8/dist-packages (from plotly-express) (5.5.0)\n",
            "Requirement already satisfied: pandas>=0.20.0 in /usr/local/lib/python3.8/dist-packages (from plotly-express) (1.3.5)\n",
            "Requirement already satisfied: pytz>=2017.3 in /usr/local/lib/python3.8/dist-packages (from pandas>=0.20.0->plotly-express) (2022.7)\n",
            "Requirement already satisfied: python-dateutil>=2.7.3 in /usr/local/lib/python3.8/dist-packages (from pandas>=0.20.0->plotly-express) (2.8.2)\n",
            "Requirement already satisfied: six in /usr/local/lib/python3.8/dist-packages (from patsy>=0.5->plotly-express) (1.15.0)\n",
            "Requirement already satisfied: tenacity>=6.2.0 in /usr/local/lib/python3.8/dist-packages (from plotly>=4.1.0->plotly-express) (8.1.0)\n"
          ]
        }
      ]
    },
    {
      "cell_type": "markdown",
      "source": [
        "### Visual representation"
      ],
      "metadata": {
        "id": "9CR9AS1r9SF2"
      }
    },
    {
      "cell_type": "markdown",
      "source": [
        "##### Pie chart"
      ],
      "metadata": {
        "id": "T_XfXgArAMcu"
      }
    },
    {
      "cell_type": "code",
      "source": [
        "colors = ['lightyellow', 'green', 'red']\n",
        "\n",
        "fig = go.Figure(data=[go.Pie(labels=list(df['Analysis'].value_counts().index),\n",
        "                             values=list(df['Analysis'].value_counts().values), textinfo='label+percent')])\n",
        "fig.update_traces(title_text=\"Reviews Analysis\",title_font=dict(size=30), textfont_size=20,marker=dict(colors=colors, line=dict(color='#000000', width=2)) )\n",
        "fig.show()"
      ],
      "metadata": {
        "colab": {
          "base_uri": "https://localhost:8080/",
          "height": 542
        },
        "id": "-iGi47TT9PAy",
        "outputId": "36d5d366-d8da-4c9e-b848-c531604f112d"
      },
      "execution_count": null,
      "outputs": [
        {
          "output_type": "display_data",
          "data": {
            "text/html": [
              "<html>\n",
              "<head><meta charset=\"utf-8\" /></head>\n",
              "<body>\n",
              "    <div>            <script src=\"https://cdnjs.cloudflare.com/ajax/libs/mathjax/2.7.5/MathJax.js?config=TeX-AMS-MML_SVG\"></script><script type=\"text/javascript\">if (window.MathJax) {MathJax.Hub.Config({SVG: {font: \"STIX-Web\"}});}</script>                <script type=\"text/javascript\">window.PlotlyConfig = {MathJaxConfig: 'local'};</script>\n",
              "        <script src=\"https://cdn.plot.ly/plotly-2.8.3.min.js\"></script>                <div id=\"a8a2fc28-8630-4b51-ac40-cff576037364\" class=\"plotly-graph-div\" style=\"height:525px; width:100%;\"></div>            <script type=\"text/javascript\">                                    window.PLOTLYENV=window.PLOTLYENV || {};                                    if (document.getElementById(\"a8a2fc28-8630-4b51-ac40-cff576037364\")) {                    Plotly.newPlot(                        \"a8a2fc28-8630-4b51-ac40-cff576037364\",                        [{\"labels\":[\"Neutral\",\"Positive\",\"Negative\"],\"textinfo\":\"label+percent\",\"values\":[1743,1036,681],\"type\":\"pie\",\"title\":{\"font\":{\"size\":30},\"text\":\"Reviews Analysis\"},\"textfont\":{\"size\":20},\"marker\":{\"line\":{\"color\":\"#000000\",\"width\":2},\"colors\":[\"lightyellow\",\"green\",\"red\"]}}],                        {\"template\":{\"data\":{\"bar\":[{\"error_x\":{\"color\":\"#2a3f5f\"},\"error_y\":{\"color\":\"#2a3f5f\"},\"marker\":{\"line\":{\"color\":\"#E5ECF6\",\"width\":0.5},\"pattern\":{\"fillmode\":\"overlay\",\"size\":10,\"solidity\":0.2}},\"type\":\"bar\"}],\"barpolar\":[{\"marker\":{\"line\":{\"color\":\"#E5ECF6\",\"width\":0.5},\"pattern\":{\"fillmode\":\"overlay\",\"size\":10,\"solidity\":0.2}},\"type\":\"barpolar\"}],\"carpet\":[{\"aaxis\":{\"endlinecolor\":\"#2a3f5f\",\"gridcolor\":\"white\",\"linecolor\":\"white\",\"minorgridcolor\":\"white\",\"startlinecolor\":\"#2a3f5f\"},\"baxis\":{\"endlinecolor\":\"#2a3f5f\",\"gridcolor\":\"white\",\"linecolor\":\"white\",\"minorgridcolor\":\"white\",\"startlinecolor\":\"#2a3f5f\"},\"type\":\"carpet\"}],\"choropleth\":[{\"colorbar\":{\"outlinewidth\":0,\"ticks\":\"\"},\"type\":\"choropleth\"}],\"contour\":[{\"colorbar\":{\"outlinewidth\":0,\"ticks\":\"\"},\"colorscale\":[[0.0,\"#0d0887\"],[0.1111111111111111,\"#46039f\"],[0.2222222222222222,\"#7201a8\"],[0.3333333333333333,\"#9c179e\"],[0.4444444444444444,\"#bd3786\"],[0.5555555555555556,\"#d8576b\"],[0.6666666666666666,\"#ed7953\"],[0.7777777777777778,\"#fb9f3a\"],[0.8888888888888888,\"#fdca26\"],[1.0,\"#f0f921\"]],\"type\":\"contour\"}],\"contourcarpet\":[{\"colorbar\":{\"outlinewidth\":0,\"ticks\":\"\"},\"type\":\"contourcarpet\"}],\"heatmap\":[{\"colorbar\":{\"outlinewidth\":0,\"ticks\":\"\"},\"colorscale\":[[0.0,\"#0d0887\"],[0.1111111111111111,\"#46039f\"],[0.2222222222222222,\"#7201a8\"],[0.3333333333333333,\"#9c179e\"],[0.4444444444444444,\"#bd3786\"],[0.5555555555555556,\"#d8576b\"],[0.6666666666666666,\"#ed7953\"],[0.7777777777777778,\"#fb9f3a\"],[0.8888888888888888,\"#fdca26\"],[1.0,\"#f0f921\"]],\"type\":\"heatmap\"}],\"heatmapgl\":[{\"colorbar\":{\"outlinewidth\":0,\"ticks\":\"\"},\"colorscale\":[[0.0,\"#0d0887\"],[0.1111111111111111,\"#46039f\"],[0.2222222222222222,\"#7201a8\"],[0.3333333333333333,\"#9c179e\"],[0.4444444444444444,\"#bd3786\"],[0.5555555555555556,\"#d8576b\"],[0.6666666666666666,\"#ed7953\"],[0.7777777777777778,\"#fb9f3a\"],[0.8888888888888888,\"#fdca26\"],[1.0,\"#f0f921\"]],\"type\":\"heatmapgl\"}],\"histogram\":[{\"marker\":{\"pattern\":{\"fillmode\":\"overlay\",\"size\":10,\"solidity\":0.2}},\"type\":\"histogram\"}],\"histogram2d\":[{\"colorbar\":{\"outlinewidth\":0,\"ticks\":\"\"},\"colorscale\":[[0.0,\"#0d0887\"],[0.1111111111111111,\"#46039f\"],[0.2222222222222222,\"#7201a8\"],[0.3333333333333333,\"#9c179e\"],[0.4444444444444444,\"#bd3786\"],[0.5555555555555556,\"#d8576b\"],[0.6666666666666666,\"#ed7953\"],[0.7777777777777778,\"#fb9f3a\"],[0.8888888888888888,\"#fdca26\"],[1.0,\"#f0f921\"]],\"type\":\"histogram2d\"}],\"histogram2dcontour\":[{\"colorbar\":{\"outlinewidth\":0,\"ticks\":\"\"},\"colorscale\":[[0.0,\"#0d0887\"],[0.1111111111111111,\"#46039f\"],[0.2222222222222222,\"#7201a8\"],[0.3333333333333333,\"#9c179e\"],[0.4444444444444444,\"#bd3786\"],[0.5555555555555556,\"#d8576b\"],[0.6666666666666666,\"#ed7953\"],[0.7777777777777778,\"#fb9f3a\"],[0.8888888888888888,\"#fdca26\"],[1.0,\"#f0f921\"]],\"type\":\"histogram2dcontour\"}],\"mesh3d\":[{\"colorbar\":{\"outlinewidth\":0,\"ticks\":\"\"},\"type\":\"mesh3d\"}],\"parcoords\":[{\"line\":{\"colorbar\":{\"outlinewidth\":0,\"ticks\":\"\"}},\"type\":\"parcoords\"}],\"pie\":[{\"automargin\":true,\"type\":\"pie\"}],\"scatter\":[{\"marker\":{\"colorbar\":{\"outlinewidth\":0,\"ticks\":\"\"}},\"type\":\"scatter\"}],\"scatter3d\":[{\"line\":{\"colorbar\":{\"outlinewidth\":0,\"ticks\":\"\"}},\"marker\":{\"colorbar\":{\"outlinewidth\":0,\"ticks\":\"\"}},\"type\":\"scatter3d\"}],\"scattercarpet\":[{\"marker\":{\"colorbar\":{\"outlinewidth\":0,\"ticks\":\"\"}},\"type\":\"scattercarpet\"}],\"scattergeo\":[{\"marker\":{\"colorbar\":{\"outlinewidth\":0,\"ticks\":\"\"}},\"type\":\"scattergeo\"}],\"scattergl\":[{\"marker\":{\"colorbar\":{\"outlinewidth\":0,\"ticks\":\"\"}},\"type\":\"scattergl\"}],\"scattermapbox\":[{\"marker\":{\"colorbar\":{\"outlinewidth\":0,\"ticks\":\"\"}},\"type\":\"scattermapbox\"}],\"scatterpolar\":[{\"marker\":{\"colorbar\":{\"outlinewidth\":0,\"ticks\":\"\"}},\"type\":\"scatterpolar\"}],\"scatterpolargl\":[{\"marker\":{\"colorbar\":{\"outlinewidth\":0,\"ticks\":\"\"}},\"type\":\"scatterpolargl\"}],\"scatterternary\":[{\"marker\":{\"colorbar\":{\"outlinewidth\":0,\"ticks\":\"\"}},\"type\":\"scatterternary\"}],\"surface\":[{\"colorbar\":{\"outlinewidth\":0,\"ticks\":\"\"},\"colorscale\":[[0.0,\"#0d0887\"],[0.1111111111111111,\"#46039f\"],[0.2222222222222222,\"#7201a8\"],[0.3333333333333333,\"#9c179e\"],[0.4444444444444444,\"#bd3786\"],[0.5555555555555556,\"#d8576b\"],[0.6666666666666666,\"#ed7953\"],[0.7777777777777778,\"#fb9f3a\"],[0.8888888888888888,\"#fdca26\"],[1.0,\"#f0f921\"]],\"type\":\"surface\"}],\"table\":[{\"cells\":{\"fill\":{\"color\":\"#EBF0F8\"},\"line\":{\"color\":\"white\"}},\"header\":{\"fill\":{\"color\":\"#C8D4E3\"},\"line\":{\"color\":\"white\"}},\"type\":\"table\"}]},\"layout\":{\"annotationdefaults\":{\"arrowcolor\":\"#2a3f5f\",\"arrowhead\":0,\"arrowwidth\":1},\"autotypenumbers\":\"strict\",\"coloraxis\":{\"colorbar\":{\"outlinewidth\":0,\"ticks\":\"\"}},\"colorscale\":{\"diverging\":[[0,\"#8e0152\"],[0.1,\"#c51b7d\"],[0.2,\"#de77ae\"],[0.3,\"#f1b6da\"],[0.4,\"#fde0ef\"],[0.5,\"#f7f7f7\"],[0.6,\"#e6f5d0\"],[0.7,\"#b8e186\"],[0.8,\"#7fbc41\"],[0.9,\"#4d9221\"],[1,\"#276419\"]],\"sequential\":[[0.0,\"#0d0887\"],[0.1111111111111111,\"#46039f\"],[0.2222222222222222,\"#7201a8\"],[0.3333333333333333,\"#9c179e\"],[0.4444444444444444,\"#bd3786\"],[0.5555555555555556,\"#d8576b\"],[0.6666666666666666,\"#ed7953\"],[0.7777777777777778,\"#fb9f3a\"],[0.8888888888888888,\"#fdca26\"],[1.0,\"#f0f921\"]],\"sequentialminus\":[[0.0,\"#0d0887\"],[0.1111111111111111,\"#46039f\"],[0.2222222222222222,\"#7201a8\"],[0.3333333333333333,\"#9c179e\"],[0.4444444444444444,\"#bd3786\"],[0.5555555555555556,\"#d8576b\"],[0.6666666666666666,\"#ed7953\"],[0.7777777777777778,\"#fb9f3a\"],[0.8888888888888888,\"#fdca26\"],[1.0,\"#f0f921\"]]},\"colorway\":[\"#636efa\",\"#EF553B\",\"#00cc96\",\"#ab63fa\",\"#FFA15A\",\"#19d3f3\",\"#FF6692\",\"#B6E880\",\"#FF97FF\",\"#FECB52\"],\"font\":{\"color\":\"#2a3f5f\"},\"geo\":{\"bgcolor\":\"white\",\"lakecolor\":\"white\",\"landcolor\":\"#E5ECF6\",\"showlakes\":true,\"showland\":true,\"subunitcolor\":\"white\"},\"hoverlabel\":{\"align\":\"left\"},\"hovermode\":\"closest\",\"mapbox\":{\"style\":\"light\"},\"paper_bgcolor\":\"white\",\"plot_bgcolor\":\"#E5ECF6\",\"polar\":{\"angularaxis\":{\"gridcolor\":\"white\",\"linecolor\":\"white\",\"ticks\":\"\"},\"bgcolor\":\"#E5ECF6\",\"radialaxis\":{\"gridcolor\":\"white\",\"linecolor\":\"white\",\"ticks\":\"\"}},\"scene\":{\"xaxis\":{\"backgroundcolor\":\"#E5ECF6\",\"gridcolor\":\"white\",\"gridwidth\":2,\"linecolor\":\"white\",\"showbackground\":true,\"ticks\":\"\",\"zerolinecolor\":\"white\"},\"yaxis\":{\"backgroundcolor\":\"#E5ECF6\",\"gridcolor\":\"white\",\"gridwidth\":2,\"linecolor\":\"white\",\"showbackground\":true,\"ticks\":\"\",\"zerolinecolor\":\"white\"},\"zaxis\":{\"backgroundcolor\":\"#E5ECF6\",\"gridcolor\":\"white\",\"gridwidth\":2,\"linecolor\":\"white\",\"showbackground\":true,\"ticks\":\"\",\"zerolinecolor\":\"white\"}},\"shapedefaults\":{\"line\":{\"color\":\"#2a3f5f\"}},\"ternary\":{\"aaxis\":{\"gridcolor\":\"white\",\"linecolor\":\"white\",\"ticks\":\"\"},\"baxis\":{\"gridcolor\":\"white\",\"linecolor\":\"white\",\"ticks\":\"\"},\"bgcolor\":\"#E5ECF6\",\"caxis\":{\"gridcolor\":\"white\",\"linecolor\":\"white\",\"ticks\":\"\"}},\"title\":{\"x\":0.05},\"xaxis\":{\"automargin\":true,\"gridcolor\":\"white\",\"linecolor\":\"white\",\"ticks\":\"\",\"title\":{\"standoff\":15},\"zerolinecolor\":\"white\",\"zerolinewidth\":2},\"yaxis\":{\"automargin\":true,\"gridcolor\":\"white\",\"linecolor\":\"white\",\"ticks\":\"\",\"title\":{\"standoff\":15},\"zerolinecolor\":\"white\",\"zerolinewidth\":2}}}},                        {\"responsive\": true}                    ).then(function(){\n",
              "                            \n",
              "var gd = document.getElementById('a8a2fc28-8630-4b51-ac40-cff576037364');\n",
              "var x = new MutationObserver(function (mutations, observer) {{\n",
              "        var display = window.getComputedStyle(gd).display;\n",
              "        if (!display || display === 'none') {{\n",
              "            console.log([gd, 'removed!']);\n",
              "            Plotly.purge(gd);\n",
              "            observer.disconnect();\n",
              "        }}\n",
              "}});\n",
              "\n",
              "// Listen for the removal of the full notebook cells\n",
              "var notebookContainer = gd.closest('#notebook-container');\n",
              "if (notebookContainer) {{\n",
              "    x.observe(notebookContainer, {childList: true});\n",
              "}}\n",
              "\n",
              "// Listen for the clearing of the current output cell\n",
              "var outputEl = gd.closest('.output');\n",
              "if (outputEl) {{\n",
              "    x.observe(outputEl, {childList: true});\n",
              "}}\n",
              "\n",
              "                        })                };                            </script>        </div>\n",
              "</body>\n",
              "</html>"
            ]
          },
          "metadata": {}
        }
      ]
    },
    {
      "cell_type": "markdown",
      "source": [
        "##### Word cloud"
      ],
      "metadata": {
        "id": "VHdrKaUmAP0v"
      }
    },
    {
      "cell_type": "code",
      "source": [
        "from wordcloud import WordCloud, STOPWORDS\n",
        "stopwords = set(STOPWORDS)\n",
        "\n",
        "def show_wordcloud(data):\n",
        "  wordcloud = WordCloud(background_color='lightblue', stopwords=stopwords, colormap='Set1', \n",
        "                        max_font_size=35, scale=3, random_state=1)\n",
        "\n",
        "  wordcloud  =wordcloud.generate(str(data))\n",
        "\n",
        "  fig = plt.figure(1, figsize=(12, 12))\n",
        "  plt.axis('off')\n",
        "\n",
        "  plt.imshow(wordcloud)\n",
        "  plt.show()"
      ],
      "metadata": {
        "id": "oDBf8BGs9v0u"
      },
      "execution_count": null,
      "outputs": []
    },
    {
      "cell_type": "code",
      "source": [
        "show_wordcloud(df.Lemma)"
      ],
      "metadata": {
        "colab": {
          "base_uri": "https://localhost:8080/",
          "height": 366
        },
        "id": "nL5eMnR_Aqkv",
        "outputId": "dfef9a6e-cb7e-4ffa-d825-26609337208e"
      },
      "execution_count": null,
      "outputs": [
        {
          "output_type": "display_data",
          "data": {
            "text/plain": [
              "<Figure size 864x864 with 1 Axes>"
            ],
            "image/png": "[encoded data removed]"
          },
          "metadata": {
            "needs_background": "light"
          }
        }
      ]
    },
    {
      "cell_type": "code",
      "source": [],
      "metadata": {
        "id": "SHvnZ-O2A1ll"
      },
      "execution_count": null,
      "outputs": []
    }
  ],
  "metadata": {
    "kernelspec": {
      "display_name": "Python 3.9.13 ('venv': venv)",
      "language": "python",
      "name": "python3"
    },
    "language_info": {
      "codemirror_mode": {
        "name": "ipython",
        "version": 3
      },
      "file_extension": ".py",
      "mimetype": "text/x-python",
      "name": "python",
      "nbconvert_exporter": "python",
      "pygments_lexer": "ipython3",
      "version": "3.9.13"
    },
    "orig_nbformat": 4,
    "vscode": {
      "interpreter": {
        "hash": "4f7924c4c56b083e0e50eadfe7ef592a7a8ef70df33a0047f82280e6be1afe15"
      }
    },
    "colab": {
      "provenance": []
    }
  },
  "nbformat": 4,
  "nbformat_minor": 0
}